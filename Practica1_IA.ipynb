{
  "nbformat": 4,
  "nbformat_minor": 0,
  "metadata": {
    "colab": {
      "provenance": [],
      "toc_visible": true,
      "authorship_tag": "ABX9TyPzecCrEgxJjHhOcdyJSbEl",
      "include_colab_link": true
    },
    "kernelspec": {
      "name": "python3",
      "display_name": "Python 3"
    },
    "language_info": {
      "name": "python"
    }
  },
  "cells": [
    {
      "cell_type": "markdown",
      "metadata": {
        "id": "view-in-github",
        "colab_type": "text"
      },
      "source": [
        "<a href=\"https://colab.research.google.com/github/RichardZambrano05/InteligenciaArtificial/blob/main/Practica1_IA.ipynb\" target=\"_parent\"><img src=\"https://colab.research.google.com/assets/colab-badge.svg\" alt=\"Open In Colab\"/></a>"
      ]
    },
    {
      "cell_type": "code",
      "execution_count": null,
      "metadata": {
        "colab": {
          "base_uri": "https://localhost:8080/"
        },
        "id": "EJAE9zFc7q3I",
        "outputId": "860da853-da16-4215-ead8-550872c13660"
      },
      "outputs": [
        {
          "output_type": "stream",
          "name": "stdout",
          "text": [
            "3.10.12 (main, Nov 20 2023, 15:14:05) [GCC 11.4.0]\n"
          ]
        }
      ],
      "source": [
        "import sys\n",
        "print (sys.version)"
      ]
    },
    {
      "cell_type": "code",
      "source": [
        "myNomber= 3\n",
        "myNomberDecimal=3.6\n",
        "state=True"
      ],
      "metadata": {
        "id": "ZrlfsxQICign"
      },
      "execution_count": null,
      "outputs": []
    },
    {
      "cell_type": "code",
      "source": [
        "print(f'valor entero: {myNomber}')\n",
        "print('valor entero es = ',myNomber)"
      ],
      "metadata": {
        "colab": {
          "base_uri": "https://localhost:8080/"
        },
        "id": "QA64D_hDDTd6",
        "outputId": "85ceab74-05a1-4a17-f50b-f70e63564a52"
      },
      "execution_count": null,
      "outputs": [
        {
          "output_type": "stream",
          "name": "stdout",
          "text": [
            "valor entero: 3\n",
            "valor entero es =  3\n"
          ]
        }
      ]
    },
    {
      "cell_type": "code",
      "source": [
        "print(f'valor decimal: {myNomberDecimal}')\n",
        "print('valor decimal es = ',myNomberDecimal)"
      ],
      "metadata": {
        "colab": {
          "base_uri": "https://localhost:8080/"
        },
        "id": "9VdUe-uiD4wf",
        "outputId": "59cb256c-dd83-4893-90ac-2bf7b7172122"
      },
      "execution_count": null,
      "outputs": [
        {
          "output_type": "stream",
          "name": "stdout",
          "text": [
            "valor decimal: 3.6\n",
            "valor decimal es =  3.6\n"
          ]
        }
      ]
    },
    {
      "cell_type": "code",
      "source": [
        "print(f'valor booleano: {state}')\n",
        "print('valor booleano es = ',state)"
      ],
      "metadata": {
        "colab": {
          "base_uri": "https://localhost:8080/"
        },
        "id": "VDagOZbJEFAw",
        "outputId": "ee465c87-4166-4fde-e0ae-e39fcdcb4556"
      },
      "execution_count": null,
      "outputs": [
        {
          "output_type": "stream",
          "name": "stdout",
          "text": [
            "valor booleano: True\n",
            "valor booleano es =  True\n"
          ]
        }
      ]
    },
    {
      "cell_type": "code",
      "source": [
        "aux1=10\n",
        "aux2=2\n",
        "print('La suma de las varibales aux1 + aux2 =',aux1+aux2)"
      ],
      "metadata": {
        "colab": {
          "base_uri": "https://localhost:8080/"
        },
        "id": "EQnGSJc7ETLH",
        "outputId": "a02eb0b8-6f29-47c3-c2e6-9059391ad111"
      },
      "execution_count": null,
      "outputs": [
        {
          "output_type": "stream",
          "name": "stdout",
          "text": [
            "La suma de las varibales aux1 + aux2 = 12\n"
          ]
        }
      ]
    },
    {
      "cell_type": "code",
      "source": [
        "aux1=10\n",
        "aux2=2\n",
        "print('La resta de las varibales aux1 - aux2 =',aux1-aux2)"
      ],
      "metadata": {
        "colab": {
          "base_uri": "https://localhost:8080/"
        },
        "id": "tUp-lQl4E754",
        "outputId": "007d4da8-f0e0-4991-db60-a315319e5442"
      },
      "execution_count": null,
      "outputs": [
        {
          "output_type": "stream",
          "name": "stdout",
          "text": [
            "La resta de las varibales aux1 - aux2 = 8\n"
          ]
        }
      ]
    },
    {
      "cell_type": "code",
      "source": [
        "aux1=10\n",
        "aux2=2\n",
        "print('La multiplicacion de las varibales aux1 * aux2 =',aux1*aux2)"
      ],
      "metadata": {
        "colab": {
          "base_uri": "https://localhost:8080/"
        },
        "id": "hqQAWYa7FBpJ",
        "outputId": "3f4e947c-1870-43b8-e94b-01b92baf85a9"
      },
      "execution_count": null,
      "outputs": [
        {
          "output_type": "stream",
          "name": "stdout",
          "text": [
            "La multiplicacion de las varibales aux1 * aux2 = 20\n"
          ]
        }
      ]
    },
    {
      "cell_type": "code",
      "source": [
        "aux1=10\n",
        "aux2=2\n",
        "print('La potencia de las varibales aux1 ** aux2 =',aux1**aux2)"
      ],
      "metadata": {
        "colab": {
          "base_uri": "https://localhost:8080/"
        },
        "id": "bRn-EyVUFGay",
        "outputId": "f511fee5-b50e-42ea-e2d8-cb7747337dd2"
      },
      "execution_count": null,
      "outputs": [
        {
          "output_type": "stream",
          "name": "stdout",
          "text": [
            "La potencia de las varibales aux1 ** aux2 = 100\n"
          ]
        }
      ]
    },
    {
      "cell_type": "code",
      "source": [
        "var1='Hola'\n",
        "var2='Richard'\n",
        "print(var1 + var2)"
      ],
      "metadata": {
        "colab": {
          "base_uri": "https://localhost:8080/"
        },
        "id": "XQinyuh4Fz5H",
        "outputId": "cc5218bf-fb27-4d65-f50b-45969258a168"
      },
      "execution_count": null,
      "outputs": [
        {
          "output_type": "stream",
          "name": "stdout",
          "text": [
            "HolaRichard\n"
          ]
        }
      ]
    },
    {
      "cell_type": "code",
      "source": [
        "print(3*var1)"
      ],
      "metadata": {
        "colab": {
          "base_uri": "https://localhost:8080/"
        },
        "id": "3eBnokR-GgT_",
        "outputId": "7a8ba51d-b9b2-4a87-807c-027141d93839"
      },
      "execution_count": null,
      "outputs": [
        {
          "output_type": "stream",
          "name": "stdout",
          "text": [
            "HolaHolaHola\n"
          ]
        }
      ]
    },
    {
      "cell_type": "code",
      "source": [
        "num1=10\n",
        "num2=10.5\n"
      ],
      "metadata": {
        "id": "oTYxH0KNGqMv"
      },
      "execution_count": null,
      "outputs": []
    },
    {
      "cell_type": "code",
      "source": [
        "print('El tipo de el numero1 es: ',type(num1))"
      ],
      "metadata": {
        "colab": {
          "base_uri": "https://localhost:8080/"
        },
        "id": "uygFWZU9G5Te",
        "outputId": "6df3f98a-670b-4811-ceb0-c017a7775797"
      },
      "execution_count": null,
      "outputs": [
        {
          "output_type": "stream",
          "name": "stdout",
          "text": [
            "El tipo de el numero1 es:  <class 'int'>\n"
          ]
        }
      ]
    },
    {
      "cell_type": "code",
      "source": [
        "print('El tipo de el numero2 es: ',type(num2))"
      ],
      "metadata": {
        "colab": {
          "base_uri": "https://localhost:8080/"
        },
        "id": "v_sgISYIHKLe",
        "outputId": "11d43573-0eb5-4d69-c1d4-e76aff83fa5f"
      },
      "execution_count": null,
      "outputs": [
        {
          "output_type": "stream",
          "name": "stdout",
          "text": [
            "El tipo de el numero2 es:  <class 'float'>\n"
          ]
        }
      ]
    },
    {
      "cell_type": "code",
      "source": [
        "tmp=list()\n",
        "tmp.append(2)\n",
        "print(tmp)\n",
        "tmp.append('Richard')\n",
        "print(tmp)\n",
        "tmp.append('Zambrano')\n",
        "print(tmp)\n",
        "tmp.append(10)\n",
        "print(tmp)\n",
        "print(tmp[3])\n",
        "aux=tmp[2]\n",
        "#aux.capitalize()\n",
        "#print(aux.capitalize())\n",
        "print(aux.upper())\n",
        "tmp1='hello'\n",
        "print(tmp1.capitalize())\n",
        "\n",
        "aux1=[1,2,3,4,5,6,7,8,9,10]\n",
        "print(aux1)\n",
        "aux1[4]=10\n",
        "print(aux1)\n",
        "print(aux1[-1])\n",
        "print(aux1[3:7])\n",
        "print(aux1[0:4])\n",
        "print(aux1[:5])\n",
        "\n",
        "aux2=list()\n",
        "for i in range(100):\n",
        "  aux2.append(i)\n",
        "print(aux2[:20])\n",
        "\n",
        "aux3=list()\n",
        "for indx, elem in enumerate(aux2):\n",
        "  if aux2[indx]%2==0:\n",
        "    aux3.append(aux2[indx])\n",
        "print(aux3)\n",
        "\n",
        "aux3=list()\n",
        "for indx, elem in enumerate(aux2):\n",
        "  if aux2[indx]%2==1:\n",
        "    aux3.append(aux2[indx])\n",
        "print(aux3)\n",
        "\n",
        "aux3=list()\n",
        "for indx, elem in enumerate(aux2):\n",
        "  if aux2[indx]%2==0:\n",
        "    aux3.append(aux2[indx]**2)\n",
        "print(aux3)\n",
        "\n",
        "animals=['cat', 'dog', 'monky', 'rabbit']\n",
        "for animal in animals:\n",
        "  print(animal)\n",
        "\n",
        "tmp3=[ i**2 for i in range(10)]\n",
        "print(tmp3)\n",
        "\n",
        "tmp3=[ i**2 for i in range(10) if i%2==0]\n",
        "print(tmp3)"
      ],
      "metadata": {
        "colab": {
          "base_uri": "https://localhost:8080/"
        },
        "id": "W8kx8OCUlXNg",
        "outputId": "bbccf4d1-c890-4585-cbe8-c0ff115767aa"
      },
      "execution_count": null,
      "outputs": [
        {
          "output_type": "stream",
          "name": "stdout",
          "text": [
            "[2]\n",
            "[2, 'Richard']\n",
            "[2, 'Richard', 'Zambrano']\n",
            "[2, 'Richard', 'Zambrano', 10]\n",
            "10\n",
            "ZAMBRANO\n",
            "Hello\n",
            "[1, 2, 3, 4, 5, 6, 7, 8, 9, 10]\n",
            "[1, 2, 3, 4, 10, 6, 7, 8, 9, 10]\n",
            "10\n",
            "[4, 10, 6, 7]\n",
            "[1, 2, 3, 4]\n",
            "[1, 2, 3, 4, 10]\n",
            "[0, 1, 2, 3, 4, 5, 6, 7, 8, 9, 10, 11, 12, 13, 14, 15, 16, 17, 18, 19]\n",
            "[0, 2, 4, 6, 8, 10, 12, 14, 16, 18, 20, 22, 24, 26, 28, 30, 32, 34, 36, 38, 40, 42, 44, 46, 48, 50, 52, 54, 56, 58, 60, 62, 64, 66, 68, 70, 72, 74, 76, 78, 80, 82, 84, 86, 88, 90, 92, 94, 96, 98]\n",
            "[1, 3, 5, 7, 9, 11, 13, 15, 17, 19, 21, 23, 25, 27, 29, 31, 33, 35, 37, 39, 41, 43, 45, 47, 49, 51, 53, 55, 57, 59, 61, 63, 65, 67, 69, 71, 73, 75, 77, 79, 81, 83, 85, 87, 89, 91, 93, 95, 97, 99]\n",
            "[0, 4, 16, 36, 64, 100, 144, 196, 256, 324, 400, 484, 576, 676, 784, 900, 1024, 1156, 1296, 1444, 1600, 1764, 1936, 2116, 2304, 2500, 2704, 2916, 3136, 3364, 3600, 3844, 4096, 4356, 4624, 4900, 5184, 5476, 5776, 6084, 6400, 6724, 7056, 7396, 7744, 8100, 8464, 8836, 9216, 9604]\n",
            "cat\n",
            "dog\n",
            "monky\n",
            "rabbit\n",
            "[0, 1, 4, 9, 16, 25, 36, 49, 64, 81]\n",
            "[0, 4, 16, 36, 64]\n"
          ]
        }
      ]
    },
    {
      "cell_type": "code",
      "source": [
        "myDictionary={'car':'cute', 'cat':'beatifull', 'dog':'big', 'chiken':'yellow', 'color':'black'}\n",
        "print(myDictionary['color'])\n",
        "myDictionaryAux={'monkey':'black', 'mouse':'small', 'rabbit':'white'}\n",
        "myDictionary.update(myDictionaryAux)\n",
        "print(myDictionary)\n",
        "for key, value in myDictionary.items():\n",
        "  print(f'key : {key} Value: {value}')\n",
        "\n",
        "myList=[1,2,3,4,5,6]\n",
        "myDictionaryAux1={x:x**2 for x in myList}\n",
        "print(myDictionaryAux1)"
      ],
      "metadata": {
        "colab": {
          "base_uri": "https://localhost:8080/"
        },
        "id": "koAvGw8LuYa-",
        "outputId": "525fd2a0-b26f-4fc8-f6c2-3cf3c3d8e6a1"
      },
      "execution_count": null,
      "outputs": [
        {
          "output_type": "stream",
          "name": "stdout",
          "text": [
            "black\n",
            "{'car': 'cute', 'cat': 'beatifull', 'dog': 'big', 'chiken': 'yellow', 'color': 'black', 'monkey': 'black', 'mouse': 'small', 'rabbit': 'white'}\n",
            "key : car Value: cute\n",
            "key : cat Value: beatifull\n",
            "key : dog Value: big\n",
            "key : chiken Value: yellow\n",
            "key : color Value: black\n",
            "key : monkey Value: black\n",
            "key : mouse Value: small\n",
            "key : rabbit Value: white\n",
            "{1: 1, 2: 4, 3: 9, 4: 16, 5: 25, 6: 36}\n"
          ]
        }
      ]
    },
    {
      "cell_type": "code",
      "source": [
        "def suma(var1, var2, flag):\n",
        "  if flag==True:\n",
        "    tmp=var1+var2\n",
        "  else:\n",
        "    tmp=var1-var2\n",
        "    #resta\n",
        "  return tmp\n",
        "\n",
        "\n",
        "\n",
        "\n",
        "num1=5\n",
        "num2=7\n",
        "control=True\n",
        "print(suma(num1, num2,control))"
      ],
      "metadata": {
        "colab": {
          "base_uri": "https://localhost:8080/"
        },
        "id": "lI1HAE6x383b",
        "outputId": "ab954b6a-6480-436a-b500-f2f93c7dc2ea"
      },
      "execution_count": null,
      "outputs": [
        {
          "output_type": "stream",
          "name": "stdout",
          "text": [
            "12\n"
          ]
        }
      ]
    },
    {
      "cell_type": "code",
      "source": [
        "listNumeros=[-1,+1,0]\n",
        "def numero_positivo_negativo(numero1):\n",
        "  if numero1 > 0:\n",
        "    return 'positivo'\n",
        "  elif numero1 < 0:\n",
        "    return 'negativo'\n",
        "  else:\n",
        "    return 'no tiene signo'\n",
        "\n",
        "for numero1 in listNumeros:\n",
        "  print(f'El numero {numero1} es {numero_positivo_negativo(numero1)}')"
      ],
      "metadata": {
        "colab": {
          "base_uri": "https://localhost:8080/"
        },
        "id": "fpRk2hRE63My",
        "outputId": "67807778-fe40-4138-e057-4a7c75b0423d"
      },
      "execution_count": null,
      "outputs": [
        {
          "output_type": "stream",
          "name": "stdout",
          "text": [
            "El numero -1 es negativo\n",
            "El numero 1 es positivo\n",
            "El numero 0 es no tiene signo\n"
          ]
        }
      ]
    },
    {
      "cell_type": "code",
      "source": [
        "var1=set()\n",
        "var1.add(5)\n",
        "print(var1)\n",
        "var1.add('Eduardo')\n",
        "var1.add(True)\n",
        "print(var1)\n",
        "var1.add('Richard')\n",
        "var1.add(3)\n",
        "print(var1)\n",
        "var1.remove('Eduardo')\n",
        "print(var1)\n",
        "\n",
        "print(len(var1))\n",
        "print(3 in var1)\n",
        "\n",
        "for elem in var1:\n",
        "  print(elem)\n"
      ],
      "metadata": {
        "colab": {
          "base_uri": "https://localhost:8080/"
        },
        "id": "LaVx147KxDZX",
        "outputId": "5bc038ff-36cc-455a-d014-7d40c96659d6"
      },
      "execution_count": null,
      "outputs": [
        {
          "output_type": "stream",
          "name": "stdout",
          "text": [
            "{5}\n",
            "{True, 5, 'Eduardo'}\n",
            "{True, 3, 5, 'Eduardo', 'Richard'}\n",
            "{True, 3, 5, 'Richard'}\n",
            "4\n",
            "True\n",
            "True\n",
            "3\n",
            "5\n",
            "Richard\n"
          ]
        }
      ]
    },
    {
      "cell_type": "code",
      "source": [
        "#TUPLES\n",
        "# Rename the variable 'var' to something else, like 'my_tuple'\n",
        "my_tuple=(1,2,3,4,5)\n",
        "print(type(my_tuple))\n",
        "var2=tuple() # This should now work correctly\n",
        "var_modificada = my_tuple[:3] + (11,) + my_tuple[4:]\n",
        "print(var_modificada)\n",
        "\n",
        "aux=list(my_tuple)\n",
        "print(type(aux))\n",
        "\n",
        "aux[2]=300\n",
        "var=tuple(aux)\n",
        "print(var)\n",
        "print(type(var))"
      ],
      "metadata": {
        "colab": {
          "base_uri": "https://localhost:8080/",
          "height": 233
        },
        "id": "d25GHrx8zV1l",
        "outputId": "cd793594-f78b-486b-c21b-a1ff484deee8"
      },
      "execution_count": null,
      "outputs": [
        {
          "output_type": "stream",
          "name": "stdout",
          "text": [
            "<class 'tuple'>\n"
          ]
        },
        {
          "output_type": "error",
          "ename": "TypeError",
          "evalue": "'tuple' object is not callable",
          "traceback": [
            "\u001b[0;31m---------------------------------------------------------------------------\u001b[0m",
            "\u001b[0;31mTypeError\u001b[0m                                 Traceback (most recent call last)",
            "\u001b[0;32m<ipython-input-78-8294f51d709f>\u001b[0m in \u001b[0;36m<cell line: 5>\u001b[0;34m()\u001b[0m\n\u001b[1;32m      3\u001b[0m \u001b[0mmy_tuple\u001b[0m\u001b[0;34m=\u001b[0m\u001b[0;34m(\u001b[0m\u001b[0;36m1\u001b[0m\u001b[0;34m,\u001b[0m\u001b[0;36m2\u001b[0m\u001b[0;34m,\u001b[0m\u001b[0;36m3\u001b[0m\u001b[0;34m,\u001b[0m\u001b[0;36m4\u001b[0m\u001b[0;34m,\u001b[0m\u001b[0;36m5\u001b[0m\u001b[0;34m)\u001b[0m\u001b[0;34m\u001b[0m\u001b[0;34m\u001b[0m\u001b[0m\n\u001b[1;32m      4\u001b[0m \u001b[0mprint\u001b[0m\u001b[0;34m(\u001b[0m\u001b[0mtype\u001b[0m\u001b[0;34m(\u001b[0m\u001b[0mmy_tuple\u001b[0m\u001b[0;34m)\u001b[0m\u001b[0;34m)\u001b[0m\u001b[0;34m\u001b[0m\u001b[0;34m\u001b[0m\u001b[0m\n\u001b[0;32m----> 5\u001b[0;31m \u001b[0mvar2\u001b[0m\u001b[0;34m=\u001b[0m\u001b[0mtuple\u001b[0m\u001b[0;34m(\u001b[0m\u001b[0;34m)\u001b[0m \u001b[0;31m# This should now work correctly\u001b[0m\u001b[0;34m\u001b[0m\u001b[0;34m\u001b[0m\u001b[0m\n\u001b[0m\u001b[1;32m      6\u001b[0m \u001b[0mvar_modificada\u001b[0m \u001b[0;34m=\u001b[0m \u001b[0mmy_tuple\u001b[0m\u001b[0;34m[\u001b[0m\u001b[0;34m:\u001b[0m\u001b[0;36m3\u001b[0m\u001b[0;34m]\u001b[0m \u001b[0;34m+\u001b[0m \u001b[0;34m(\u001b[0m\u001b[0;36m11\u001b[0m\u001b[0;34m,\u001b[0m\u001b[0;34m)\u001b[0m \u001b[0;34m+\u001b[0m \u001b[0mmy_tuple\u001b[0m\u001b[0;34m[\u001b[0m\u001b[0;36m4\u001b[0m\u001b[0;34m:\u001b[0m\u001b[0;34m]\u001b[0m\u001b[0;34m\u001b[0m\u001b[0;34m\u001b[0m\u001b[0m\n\u001b[1;32m      7\u001b[0m \u001b[0mprint\u001b[0m\u001b[0;34m(\u001b[0m\u001b[0mvar_modificada\u001b[0m\u001b[0;34m)\u001b[0m\u001b[0;34m\u001b[0m\u001b[0;34m\u001b[0m\u001b[0m\n",
            "\u001b[0;31mTypeError\u001b[0m: 'tuple' object is not callable"
          ]
        }
      ]
    },
    {
      "cell_type": "code",
      "source": [
        "#HOW TO DEFINE A CLASS\n",
        "class saludo(object):\n",
        "  def __init__(self,name):\n",
        "    print('The object has been created')\n",
        "    self.name=name\n",
        "\n",
        "  def saludoPersonal(self):\n",
        "    return f\"Hola, {self.name}\"\n",
        "\n",
        "\n",
        "name1=saludo('Richard')\n",
        "name2=saludo('Eduardo')\n",
        "name3=saludo('Zambrano')\n",
        "\n",
        "print(name1.saludoPersonal())"
      ],
      "metadata": {
        "colab": {
          "base_uri": "https://localhost:8080/"
        },
        "id": "q7dbeBOd2ZUd",
        "outputId": "1e51d05e-11b9-464c-8ba1-591d82be41c1"
      },
      "execution_count": null,
      "outputs": [
        {
          "output_type": "stream",
          "name": "stdout",
          "text": [
            "The object has been created\n",
            "The object has been created\n",
            "The object has been created\n",
            "Hola, Richard\n"
          ]
        }
      ]
    },
    {
      "cell_type": "code",
      "source": [
        "class circulo():\n",
        "  def __init__(self, radio):\n",
        "        self.radio = radio\n",
        "  def calcular_area(self):\n",
        "        area = 3.14159 * (self.radio ** 2)\n",
        "        return area\n",
        "  def __init__(self, lado):\n",
        "        self.lado = lado\n",
        "\n",
        "  def calcular_area(self):\n",
        "        area = self.lado ** 2\n",
        "        return area\n",
        "\n",
        "  def __init__(self, base, altura):\n",
        "        self.base = base\n",
        "        self.altura = altura\n",
        "\n",
        "  def calcular_area(self):\n",
        "        area = 0.5 * self.base * self.altura\n",
        "        return area\n",
        "\n",
        "circulo1 = circulo(4)\n",
        "cuadrado1 = circulo(5)\n",
        "triangulo1 = circulo(6, 4)\n",
        "area_circulo = circulo1.calcular_area()\n",
        "area_cuadrado = cuadrado1.calcular_area()\n",
        "area_triangulo = triangulo1.calcular_area()\n",
        "\n",
        "#print(f\"El área del círculo con radio {circulo1.radio} es: {area_circulo}\")\n",
        "#print(f\"El área del cuadrado con lado {cuadrado1.lado} es: {area_cuadrado}\")\n",
        "print(f\"El área del triángulo con base {triangulo1.base} y altura {triangulo1.altura} es: {area_triangulo}\")"
      ],
      "metadata": {
        "colab": {
          "base_uri": "https://localhost:8080/",
          "height": 215
        },
        "id": "lo9TD3ls4s4N",
        "outputId": "dd908b4c-ba28-4ee7-db02-8650ac045552"
      },
      "execution_count": null,
      "outputs": [
        {
          "output_type": "error",
          "ename": "TypeError",
          "evalue": "circulo.__init__() missing 1 required positional argument: 'altura'",
          "traceback": [
            "\u001b[0;31m---------------------------------------------------------------------------\u001b[0m",
            "\u001b[0;31mTypeError\u001b[0m                                 Traceback (most recent call last)",
            "\u001b[0;32m<ipython-input-48-4207e15da4f1>\u001b[0m in \u001b[0;36m<cell line: 22>\u001b[0;34m()\u001b[0m\n\u001b[1;32m     20\u001b[0m         \u001b[0;32mreturn\u001b[0m \u001b[0marea\u001b[0m\u001b[0;34m\u001b[0m\u001b[0;34m\u001b[0m\u001b[0m\n\u001b[1;32m     21\u001b[0m \u001b[0;34m\u001b[0m\u001b[0m\n\u001b[0;32m---> 22\u001b[0;31m \u001b[0mcirculo1\u001b[0m \u001b[0;34m=\u001b[0m \u001b[0mcirculo\u001b[0m\u001b[0;34m(\u001b[0m\u001b[0;36m4\u001b[0m\u001b[0;34m)\u001b[0m\u001b[0;34m\u001b[0m\u001b[0;34m\u001b[0m\u001b[0m\n\u001b[0m\u001b[1;32m     23\u001b[0m \u001b[0mcuadrado1\u001b[0m \u001b[0;34m=\u001b[0m \u001b[0mcirculo\u001b[0m\u001b[0;34m(\u001b[0m\u001b[0;36m5\u001b[0m\u001b[0;34m)\u001b[0m\u001b[0;34m\u001b[0m\u001b[0;34m\u001b[0m\u001b[0m\n\u001b[1;32m     24\u001b[0m \u001b[0mtriangulo1\u001b[0m \u001b[0;34m=\u001b[0m \u001b[0mcirculo\u001b[0m\u001b[0;34m(\u001b[0m\u001b[0;36m6\u001b[0m\u001b[0;34m,\u001b[0m \u001b[0;36m4\u001b[0m\u001b[0;34m)\u001b[0m\u001b[0;34m\u001b[0m\u001b[0;34m\u001b[0m\u001b[0m\n",
            "\u001b[0;31mTypeError\u001b[0m: circulo.__init__() missing 1 required positional argument: 'altura'"
          ]
        }
      ]
    },
    {
      "cell_type": "code",
      "source": [
        "import math\n",
        "\n",
        "class FiguraGeometrica:\n",
        "  def __init__(self, radio, base, altura):\n",
        "     self.radio = radio\n",
        "     self.base = base\n",
        "     self.altura = altura\n",
        "\n",
        "  def calcularAreaCirculo(self):\n",
        "    areaCirculo = math.pi * self.radio **2\n",
        "    return areaCirculo\n",
        "\n",
        "figura = FiguraGeometrica(radio=5, base=6, altura=4)\n",
        "areaCirculo = figura.calcularAreaCirculo()\n",
        "print(f'{areaCirculo:.2f}')\n"
      ],
      "metadata": {
        "colab": {
          "base_uri": "https://localhost:8080/"
        },
        "id": "2KHUra528kLb",
        "outputId": "a012ea38-7416-4c77-d22c-8a73eb561630"
      },
      "execution_count": null,
      "outputs": [
        {
          "output_type": "stream",
          "name": "stdout",
          "text": [
            "78.54\n"
          ]
        }
      ]
    },
    {
      "cell_type": "code",
      "source": [
        "class printingNameAge(object):\n",
        "  def __init__(self, name, age):\n",
        "    print(f\"The object has been created\")\n",
        "    self.name=name\n",
        "    self.age=age\n",
        "\n",
        "  def printUppercase():\n",
        "    return f\"Name: {self.name.upper()} and the Age: {self.age}\"\n",
        "\n",
        "student=printingNameAge('eduardo',24)\n",
        "print(student.printUppercase())"
      ],
      "metadata": {
        "colab": {
          "base_uri": "https://localhost:8080/",
          "height": 197
        },
        "id": "JT4KJMK-_G68",
        "outputId": "cf6e96cb-fbe3-4374-bfb0-61d6b4325b61"
      },
      "execution_count": null,
      "outputs": [
        {
          "output_type": "stream",
          "name": "stdout",
          "text": [
            "The object has been created\n"
          ]
        },
        {
          "output_type": "error",
          "ename": "TypeError",
          "evalue": "printingNameAge.printUppercase() takes 0 positional arguments but 1 was given",
          "traceback": [
            "\u001b[0;31m---------------------------------------------------------------------------\u001b[0m",
            "\u001b[0;31mTypeError\u001b[0m                                 Traceback (most recent call last)",
            "\u001b[0;32m<ipython-input-73-7f1f4a1a375f>\u001b[0m in \u001b[0;36m<cell line: 11>\u001b[0;34m()\u001b[0m\n\u001b[1;32m      9\u001b[0m \u001b[0;34m\u001b[0m\u001b[0m\n\u001b[1;32m     10\u001b[0m \u001b[0mstudent\u001b[0m\u001b[0;34m=\u001b[0m\u001b[0mprintingNameAge\u001b[0m\u001b[0;34m(\u001b[0m\u001b[0;34m'eduardo'\u001b[0m\u001b[0;34m,\u001b[0m\u001b[0;36m24\u001b[0m\u001b[0;34m)\u001b[0m\u001b[0;34m\u001b[0m\u001b[0;34m\u001b[0m\u001b[0m\n\u001b[0;32m---> 11\u001b[0;31m \u001b[0mprint\u001b[0m\u001b[0;34m(\u001b[0m\u001b[0mstudent\u001b[0m\u001b[0;34m.\u001b[0m\u001b[0mprintUppercase\u001b[0m\u001b[0;34m(\u001b[0m\u001b[0;34m)\u001b[0m\u001b[0;34m)\u001b[0m\u001b[0;34m\u001b[0m\u001b[0;34m\u001b[0m\u001b[0m\n\u001b[0m",
            "\u001b[0;31mTypeError\u001b[0m: printingNameAge.printUppercase() takes 0 positional arguments but 1 was given"
          ]
        }
      ]
    },
    {
      "cell_type": "code",
      "source": [
        "class Calculadora:\n",
        "    def __init__(self, numero1, numero2): # Fixed the typo here\n",
        "        self.numero1 = numero1\n",
        "        self.numero2 = numero2\n",
        "\n",
        "    def sumar(self):\n",
        "        resultado = self.numero1 + self.numero2\n",
        "        print(f\"{self.numero1} + {self.numero2} = {resultado}\")\n",
        "        self.es_par(resultado)\n",
        "\n",
        "    def restar(self):\n",
        "        resultado = self.numero1 - self.numero2\n",
        "        print(f\"{self.numero1} - {self.numero2} = {resultado}\")\n",
        "        self.es_par(resultado)\n",
        "\n",
        "    def multiplicar(self):\n",
        "        resultado = self.numero1 * self.numero2\n",
        "        print(f\"{self.numero1} * {self.numero2} = {resultado}\")\n",
        "        self.es_par(resultado)\n",
        "\n",
        "    def dividir(self):\n",
        "        if self.numero2 == 0:\n",
        "            print(\"Error: división por cero\")\n",
        "        else:\n",
        "            resultado = self.numero1 / self.numero2\n",
        "            print(f\"{self.numero1} / {self.numero2} = {resultado}\")\n",
        "            self.es_par(resultado)\n",
        "\n",
        "    def es_par(self, numero):\n",
        "        if numero % 2 == 0:\n",
        "            print(f\"{numero} es par\")\n",
        "        else:\n",
        "            print(f\"{numero} es impar\")\n",
        "\n",
        "# Ejemplo de uso\n",
        "calculadora = Calculadora(10, 5)\n",
        "\n",
        "calculadora.sumar()\n",
        "calculadora.restar()\n",
        "calculadora.multiplicar()\n",
        "calculadora.dividir()"
      ],
      "metadata": {
        "colab": {
          "base_uri": "https://localhost:8080/"
        },
        "id": "nDXWdjYbFG8h",
        "outputId": "f3718880-21d9-4dd8-de40-b4b2cba8afd0"
      },
      "execution_count": null,
      "outputs": [
        {
          "output_type": "stream",
          "name": "stdout",
          "text": [
            "10 + 5 = 15\n",
            "15 es impar\n",
            "10 - 5 = 5\n",
            "5 es impar\n",
            "10 * 5 = 50\n",
            "50 es par\n",
            "10 / 5 = 2.0\n",
            "2.0 es par\n"
          ]
        }
      ]
    },
    {
      "cell_type": "code",
      "source": [],
      "metadata": {
        "id": "BYLwTmaMoTnn"
      },
      "execution_count": null,
      "outputs": []
    }
  ]
}
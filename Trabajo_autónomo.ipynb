{
  "nbformat": 4,
  "nbformat_minor": 0,
  "metadata": {
    "colab": {
      "provenance": [],
      "authorship_tag": "ABX9TyMqULQbmPbx17oOcumd1Srf",
      "include_colab_link": true
    },
    "kernelspec": {
      "name": "python3",
      "display_name": "Python 3"
    },
    "language_info": {
      "name": "python"
    }
  },
  "cells": [
    {
      "cell_type": "markdown",
      "metadata": {
        "id": "view-in-github",
        "colab_type": "text"
      },
      "source": [
        "<a href=\"https://colab.research.google.com/github/RichardZambrano05/InteligenciaArtificial/blob/main/Trabajo_aut%C3%B3nomo.ipynb\" target=\"_parent\"><img src=\"https://colab.research.google.com/assets/colab-badge.svg\" alt=\"Open In Colab\"/></a>"
      ]
    },
    {
      "cell_type": "code",
      "source": [
        "# Autor: Richard Eduardo Zambrano Cedeño\n",
        "# Materia: Inteligencia Artificial\n",
        "# Curso: 8vo semestre de TI"
      ],
      "metadata": {
        "id": "kBfnn_N1rqnc"
      },
      "execution_count": null,
      "outputs": []
    },
    {
      "cell_type": "code",
      "execution_count": null,
      "metadata": {
        "colab": {
          "base_uri": "https://localhost:8080/"
        },
        "id": "I9sgP3HmyKOX",
        "outputId": "21d665f9-011c-43e0-ce6b-96dad4d0f88a"
      },
      "outputs": [
        {
          "output_type": "stream",
          "name": "stdout",
          "text": [
            "1.25.2\n"
          ]
        }
      ],
      "source": [
        "# Import numpy as np and see the version\n",
        "\n",
        "# your code here\n",
        "#pass\n",
        "\n",
        "import numpy as np\n",
        "\n",
        "# Verificar la versión de numpy\n",
        "print(np.__version__)\n"
      ]
    },
    {
      "cell_type": "code",
      "source": [
        "# Create a 1D array of numbers from 0 to 9\n",
        "# your code here\n",
        "#pass\n",
        "\n",
        "import numpy as np\n",
        "\n",
        "# Crear un array unidimensional de números del 0 al 9\n",
        "array_1d = np.arange(10)\n",
        "print(array_1d)\n"
      ],
      "metadata": {
        "colab": {
          "base_uri": "https://localhost:8080/"
        },
        "id": "rvpbKM2_ygyV",
        "outputId": "3871ec9d-db92-4346-d08e-41ecda111f8d"
      },
      "execution_count": null,
      "outputs": [
        {
          "output_type": "stream",
          "name": "stdout",
          "text": [
            "[0 1 2 3 4 5 6 7 8 9]\n"
          ]
        }
      ]
    },
    {
      "cell_type": "code",
      "source": [
        "# Create random vector of size 10 and replace the maximum value by 0\n",
        "#pass\n",
        "\n",
        "import numpy as np\n",
        "\n",
        "# Crear un vector aleatorio de tamaño 10\n",
        "random_vector = np.random.rand(10)\n",
        "print(\"Vector aleatorio original:\", random_vector)\n",
        "\n",
        "# Reemplazar el valor máximo en el vector por 0\n",
        "random_vector[random_vector.argmax()] = 0\n",
        "print(\"Vector después de reemplazar el valor máximo por 0:\", random_vector)"
      ],
      "metadata": {
        "colab": {
          "base_uri": "https://localhost:8080/"
        },
        "id": "k6qvYMPoy1P2",
        "outputId": "825dc418-7c5b-471f-9e7e-75a94ba335c5"
      },
      "execution_count": null,
      "outputs": [
        {
          "output_type": "stream",
          "name": "stdout",
          "text": [
            "Vector aleatorio original: [0.50471073 0.58434849 0.72105252 0.11904992 0.03093553 0.38479483\n",
            " 0.18585795 0.81212308 0.4300918  0.46746996]\n",
            "Vector después de reemplazar el valor máximo por 0: [0.50471073 0.58434849 0.72105252 0.11904992 0.03093553 0.38479483\n",
            " 0.18585795 0.         0.4300918  0.46746996]\n"
          ]
        }
      ]
    },
    {
      "cell_type": "code",
      "source": [
        "# Print the number 8 from the array below:\n",
        "# arr = np.array([[1,2,3,4,5], [6,7,8,9,10]])\n",
        "#pass\n",
        "\n",
        "import numpy as np\n",
        "\n",
        "# Array dado\n",
        "arr = np.array([[1, 2, 3, 4, 5], [6, 7, 8, 9, 10]])\n",
        "\n",
        "# Imprimir el número 8\n",
        "number_8 = arr[1, 2]\n",
        "print(number_8)\n"
      ],
      "metadata": {
        "colab": {
          "base_uri": "https://localhost:8080/"
        },
        "id": "K968Pv1AzGu5",
        "outputId": "0c28da11-0a72-432a-9f59-7892869c8420"
      },
      "execution_count": null,
      "outputs": [
        {
          "output_type": "stream",
          "name": "stdout",
          "text": [
            "8\n"
          ]
        }
      ]
    },
    {
      "cell_type": "code",
      "source": [
        "# Print the numbers [3, 4, 5] from the array below:\n",
        "# arr = np.array([1,2,3,4,5,6,7])\n",
        "#pass\n",
        "\n",
        "import numpy as np\n",
        "\n",
        "# Dado de matriz\n",
        "arr = np.array([1, 2, 3, 4, 5, 6, 7])\n",
        "\n",
        "# Imprimir los números [3, 4, 5]\n",
        "subset = arr[2:5]\n",
        "print(subset)\n"
      ],
      "metadata": {
        "colab": {
          "base_uri": "https://localhost:8080/"
        },
        "id": "tzjVXZdLzfV8",
        "outputId": "7bb50eed-a3bc-4e1e-d7d4-b325365db1bc"
      },
      "execution_count": null,
      "outputs": [
        {
          "output_type": "stream",
          "name": "stdout",
          "text": [
            "[3 4 5]\n"
          ]
        }
      ]
    },
    {
      "cell_type": "code",
      "source": [
        "# Print the last 4 numbers from the array below:\n",
        "# arr = np.array([1,2,3,4,5,6,7])\n",
        "#pass\n",
        "\n",
        "import numpy as np\n",
        "\n",
        "# Dado de matriz\n",
        "arr = np.array([1, 2, 3, 4, 5, 6, 7])\n",
        "\n",
        "# Imprimir los últimos 4 números\n",
        "last_four_numbers = arr[-4:]\n",
        "print(last_four_numbers)"
      ],
      "metadata": {
        "colab": {
          "base_uri": "https://localhost:8080/"
        },
        "id": "xj1a7ECKzrrV",
        "outputId": "cbe16c7d-e729-4f27-8594-c1a1a26c3982"
      },
      "execution_count": null,
      "outputs": [
        {
          "output_type": "stream",
          "name": "stdout",
          "text": [
            "[4 5 6 7]\n"
          ]
        }
      ]
    },
    {
      "cell_type": "code",
      "source": [
        "# Create a 3×3 numpy array of all True’s\n",
        "# your code here\n",
        "#pass\n",
        "\n",
        "import numpy as np\n",
        "\n",
        "# Crear un array de 3x3 con todos los valores True\n",
        "array_true = np.full((3, 3), True)\n",
        "print(array_true)\n"
      ],
      "metadata": {
        "colab": {
          "base_uri": "https://localhost:8080/"
        },
        "id": "eRP66KLjz32l",
        "outputId": "0ba5ff76-290b-4140-9495-783b72a791bc"
      },
      "execution_count": null,
      "outputs": [
        {
          "output_type": "stream",
          "name": "stdout",
          "text": [
            "[[ True  True  True]\n",
            " [ True  True  True]\n",
            " [ True  True  True]]\n"
          ]
        }
      ]
    },
    {
      "cell_type": "code",
      "source": [
        "# Extract all odd numbers from arr\n",
        "# your code here\n",
        "#pass\n",
        "\n",
        "import numpy as np\n",
        "\n",
        "# Dado de matriz\n",
        "arr = np.array([1, 2, 3, 4, 5, 6, 7, 8, 9, 10])\n",
        "\n",
        "# Extraer todos los números impares\n",
        "odd_numbers = arr[arr % 2 != 0]\n",
        "print(odd_numbers)"
      ],
      "metadata": {
        "colab": {
          "base_uri": "https://localhost:8080/"
        },
        "id": "wux5wg0j0Rym",
        "outputId": "7aef6043-5059-4136-a26c-61a37b707b0f"
      },
      "execution_count": null,
      "outputs": [
        {
          "output_type": "stream",
          "name": "stdout",
          "text": [
            "[1 3 5 7 9]\n"
          ]
        }
      ]
    },
    {
      "cell_type": "code",
      "source": [
        "# Create a vector with values ranging from 10 to 49 (★☆☆)\n",
        "#pass\n",
        "\n",
        "import numpy as np\n",
        "\n",
        "# Crear un vector con valores del 10 al 49\n",
        "vector = np.arange(10, 50)\n",
        "print(vector)"
      ],
      "metadata": {
        "colab": {
          "base_uri": "https://localhost:8080/"
        },
        "id": "k6jqbDah0cSg",
        "outputId": "0cffe9df-7fe0-4fbb-8ab2-0ea56c94d04c"
      },
      "execution_count": null,
      "outputs": [
        {
          "output_type": "stream",
          "name": "stdout",
          "text": [
            "[10 11 12 13 14 15 16 17 18 19 20 21 22 23 24 25 26 27 28 29 30 31 32 33\n",
            " 34 35 36 37 38 39 40 41 42 43 44 45 46 47 48 49]\n"
          ]
        }
      ]
    },
    {
      "cell_type": "code",
      "source": [
        "# Reverse a vector (first element becomes last)\n",
        "#pass\n",
        "\n",
        "def reverse_vector(vector):\n",
        "    return vector[::-1]\n",
        "\n",
        "# Ejemplo:\n",
        "original_vector = [1, 2, 3, 4, 5]\n",
        "reversed_vector = reverse_vector(original_vector)\n",
        "print(\"Original:\", original_vector)\n",
        "print(\"Invertido:\", reversed_vector)"
      ],
      "metadata": {
        "colab": {
          "base_uri": "https://localhost:8080/"
        },
        "id": "sxtgnHzw0pGp",
        "outputId": "53f19aa4-cd8d-4275-b096-8a7a1a4865d6"
      },
      "execution_count": null,
      "outputs": [
        {
          "output_type": "stream",
          "name": "stdout",
          "text": [
            "Original: [1, 2, 3, 4, 5]\n",
            "Invertido: [5, 4, 3, 2, 1]\n"
          ]
        }
      ]
    },
    {
      "cell_type": "code",
      "source": [
        "#  Create a 10x10 array with random integer values and find the minimum and maximum values\n",
        "#pass\n",
        "\n",
        "import numpy as np\n",
        "\n",
        "# Uuna matriz de 10x10 con valores enteros aleatorios entre 0 y 100\n",
        "array = np.random.randint(0, 101, size=(10, 10))\n",
        "\n",
        "# Encuentra valores mínimos y máximos.\n",
        "min_value = np.min(array)\n",
        "max_value = np.max(array)\n",
        "\n",
        "print(\"Array:\")\n",
        "print(array)\n",
        "print(\"\\nMinimum value:\", min_value)\n",
        "print(\"Maximum value:\", max_value)"
      ],
      "metadata": {
        "colab": {
          "base_uri": "https://localhost:8080/"
        },
        "id": "ZJLb63l104q7",
        "outputId": "cbb66510-1205-40a7-bca7-ae4a55c9e78c"
      },
      "execution_count": null,
      "outputs": [
        {
          "output_type": "stream",
          "name": "stdout",
          "text": [
            "Array:\n",
            "[[ 28  99   3  39  38  43  30  98  10  98]\n",
            " [ 49  62  55  99  93  62  30 100  46  12]\n",
            " [ 23  32   4  78  93  91  75  54  72   4]\n",
            " [ 62  81  67   7  73  73  28  50   6  86]\n",
            " [100  50  63  34  26  50  30  13  95  78]\n",
            " [  4  60  85  50  37  68  57  13  56  81]\n",
            " [ 28  44  82  28   3  87  37  64  84   6]\n",
            " [ 23  70   4  71  60  22  21  61  50  80]\n",
            " [ 93  58  80  36  74  16  22  51  50  60]\n",
            " [ 95  72  49  21  13  80  17  41  40  70]]\n",
            "\n",
            "Minimum value: 3\n",
            "Maximum value: 100\n"
          ]
        }
      ]
    },
    {
      "cell_type": "code",
      "source": [
        "# Create a 3x3x3 array with random values\n",
        "#pass\n",
        "\n",
        "import numpy as np\n",
        "\n",
        "# Una matriz de 3x3x3 con valores aleatorios\n",
        "array = np.random.rand(3, 3, 3)\n",
        "\n",
        "print(\"Matriz 3x3x3 con valores aleatorios:\")\n",
        "print(array)"
      ],
      "metadata": {
        "colab": {
          "base_uri": "https://localhost:8080/"
        },
        "id": "5YsdN8_M1lDJ",
        "outputId": "5be5de63-2a97-434a-dc26-7e16f337d5a5"
      },
      "execution_count": null,
      "outputs": [
        {
          "output_type": "stream",
          "name": "stdout",
          "text": [
            "Matriz 3x3x3 con valores aleatorios:\n",
            "[[[0.71095236 0.07312702 0.5400237 ]\n",
            "  [0.95783179 0.73353108 0.34901682]\n",
            "  [0.59205141 0.84854692 0.77100099]]\n",
            "\n",
            " [[0.88315324 0.21129338 0.74678934]\n",
            "  [0.67281142 0.15657174 0.52087224]\n",
            "  [0.85461911 0.81253319 0.05939898]]\n",
            "\n",
            " [[0.18535721 0.56198701 0.42645627]\n",
            "  [0.30741441 0.42819907 0.06090104]\n",
            "  [0.88068825 0.70611889 0.99901252]]]\n"
          ]
        }
      ]
    },
    {
      "cell_type": "code",
      "source": [
        "# Replace all odd numbers in arr with -1\n",
        "# your code here\n",
        "#pass\n",
        "\n",
        "import numpy as np\n",
        "\n",
        "# Matriz de ejemplo\n",
        "arr = np.array([[1, 2, 3],\n",
        "                [4, 5, 6],\n",
        "                [7, 8, 9]])\n",
        "\n",
        "# Reemplazar números impares con -1\n",
        "arr[arr % 2 != 0] = -1\n",
        "\n",
        "print(\"Matriz modificada:\")\n",
        "print(arr)"
      ],
      "metadata": {
        "colab": {
          "base_uri": "https://localhost:8080/"
        },
        "id": "e-Bd331i14q6",
        "outputId": "2c9b742d-4f41-4b92-9141-7d47216e20d3"
      },
      "execution_count": null,
      "outputs": [
        {
          "output_type": "stream",
          "name": "stdout",
          "text": [
            "Matriz modificada:\n",
            "[[-1  2 -1]\n",
            " [ 4 -1  6]\n",
            " [-1  8 -1]]\n"
          ]
        }
      ]
    },
    {
      "cell_type": "code",
      "source": [
        "# Create an array of type float\n",
        "#pass\n",
        "\n",
        "import numpy as np\n",
        "\n",
        "# Crea una matriz de tipo float\n",
        "arr = np.array([[1, 2, 3],\n",
        "                [4, 5, 6],\n",
        "                [7, 8, 9]], dtype=float)\n",
        "\n",
        "print(\"Matriz de tipo flotante:\")\n",
        "print(arr)"
      ],
      "metadata": {
        "colab": {
          "base_uri": "https://localhost:8080/"
        },
        "id": "Oll3ZMIG2NnO",
        "outputId": "a85a321e-a4b3-4944-ad59-4b7b7ca7ad45"
      },
      "execution_count": null,
      "outputs": [
        {
          "output_type": "stream",
          "name": "stdout",
          "text": [
            "Matriz de tipo flotante:\n",
            "[[1. 2. 3.]\n",
            " [4. 5. 6.]\n",
            " [7. 8. 9.]]\n"
          ]
        }
      ]
    },
    {
      "cell_type": "code",
      "source": [
        "# Convert a 1D array to a 2D array with 2 rows\n",
        "# your code here\n",
        "#pass\n",
        "\n",
        "import numpy as np\n",
        "\n",
        "# Ejemplo de matriz 1D\n",
        "arr_1d = np.array([1, 2, 3, 4, 5, 6])\n",
        "\n",
        "# Convertir a una matriz 2D con 2 filas\n",
        "arr_2d = arr_1d.reshape(2, -1)  # -1 en remodelación infiere la dimensión restante\n",
        "\n",
        "print(\"Original 1D matriz:\")\n",
        "print(arr_1d)\n",
        "print(\"\\nMatriz 2D convertida con 2 filas:\")\n",
        "print(arr_2d)"
      ],
      "metadata": {
        "colab": {
          "base_uri": "https://localhost:8080/"
        },
        "id": "aCpEqLo42mq3",
        "outputId": "f0767822-d48b-4bea-be57-f5dd8ccd52a2"
      },
      "execution_count": null,
      "outputs": [
        {
          "output_type": "stream",
          "name": "stdout",
          "text": [
            "Original 1D matriz:\n",
            "[1 2 3 4 5 6]\n",
            "\n",
            "Matriz 2D convertida con 2 filas:\n",
            "[[1 2 3]\n",
            " [4 5 6]]\n"
          ]
        }
      ]
    },
    {
      "cell_type": "code",
      "source": [
        "# How to find common values between two arrays?\n",
        "\n",
        "# Z1 = np.random.randint(0,10,10)\n",
        "# Z2 = np.random.randint(0,10,10)\n",
        "#pass\n",
        "\n",
        "import numpy as np\n",
        "\n",
        "# Matrices de ejemplo\n",
        "Z1 = np.random.randint(0, 10, 10)\n",
        "Z2 = np.random.randint(0, 10, 10)\n",
        "\n",
        "# Encuentre valores comunes entre Z1 y Z2\n",
        "common_values = np.intersect1d(Z1, Z2)\n",
        "\n",
        "print(\"Matriz Z1:\", Z1)\n",
        "print(\"Matriz Z2:\", Z2)\n",
        "print(\"\\nValores comunes entre Z1 y Z2:\", common_values)"
      ],
      "metadata": {
        "colab": {
          "base_uri": "https://localhost:8080/"
        },
        "id": "02ryHLKn3QJQ",
        "outputId": "3d90a152-a0ad-459a-ab02-faa42d842a8d"
      },
      "execution_count": null,
      "outputs": [
        {
          "output_type": "stream",
          "name": "stdout",
          "text": [
            "Matriz Z1: [5 3 2 9 5 9 4 5 3 1]\n",
            "Matriz Z2: [8 5 6 0 7 5 1 8 8 8]\n",
            "\n",
            "Valores comunes entre Z1 y Z2: [1 5]\n"
          ]
        }
      ]
    },
    {
      "cell_type": "code",
      "source": [
        "#  Consider two random array A and B, check if they are equal\n",
        "\n",
        "\n",
        "# A = np.random.randint(0,2,5)\n",
        "# B = np.random.randint(0,2,5)\n",
        "\n",
        "#pass\n",
        "\n",
        "import numpy as np\n",
        "\n",
        "# Generar matrices aleatorias A y B\n",
        "A = np.random.randint(0, 2, 5)\n",
        "B = np.random.randint(0, 2, 5)\n",
        "\n",
        "# Compruebe si las matrices A y B son iguales\n",
        "are_equal = np.array_equal(A, B)\n",
        "\n",
        "print(\"Matriz A:\", A)\n",
        "print(\"Matriz B:\", B)\n",
        "\n",
        "if are_equal:\n",
        "    print(\"\\nLas matrices A y B son iguales.\")\n",
        "else:\n",
        "    print(\"\\nLas matrices A y B no son iguales.\")"
      ],
      "metadata": {
        "colab": {
          "base_uri": "https://localhost:8080/"
        },
        "id": "TZagu3sG3kfM",
        "outputId": "9b9e1ca1-40fd-43f4-da4e-47dd3a21558b"
      },
      "execution_count": null,
      "outputs": [
        {
          "output_type": "stream",
          "name": "stdout",
          "text": [
            "Matriz A: [1 0 1 0 1]\n",
            "Matriz B: [0 0 0 0 1]\n",
            "\n",
            "Las matrices A y B no son iguales.\n"
          ]
        }
      ]
    },
    {
      "cell_type": "code",
      "source": [
        "# Stack arrays a and b vertically\n",
        "# your code here\n",
        "#pass\n",
        "\n",
        "import numpy as np\n",
        "\n",
        "# Matrices de ejemplo\n",
        "a = np.array([[1, 2, 3],\n",
        "              [4, 5, 6]])\n",
        "\n",
        "b = np.array([[7, 8, 9],\n",
        "              [10, 11, 12]])\n",
        "\n",
        "# Apilar matrices a y b verticalmente\n",
        "stacked_array = np.vstack((a, b))\n",
        "\n",
        "print(\"Matriz a:\")\n",
        "print(a)\n",
        "print(\"\\nMatriz b:\")\n",
        "print(b)\n",
        "print(\"\\nMatriz apilada verticalmente:\")\n",
        "print(stacked_array)"
      ],
      "metadata": {
        "colab": {
          "base_uri": "https://localhost:8080/"
        },
        "id": "nyNz1YaK4CYD",
        "outputId": "9aafe930-7487-48a0-f71d-adb34de8c57f"
      },
      "execution_count": null,
      "outputs": [
        {
          "output_type": "stream",
          "name": "stdout",
          "text": [
            "Matriz a:\n",
            "[[1 2 3]\n",
            " [4 5 6]]\n",
            "\n",
            "Matriz b:\n",
            "[[ 7  8  9]\n",
            " [10 11 12]]\n",
            "\n",
            "Matriz apilada verticalmente:\n",
            "[[ 1  2  3]\n",
            " [ 4  5  6]\n",
            " [ 7  8  9]\n",
            " [10 11 12]]\n"
          ]
        }
      ]
    },
    {
      "cell_type": "code",
      "source": [
        "# Stack the arrays a and b horizontally.\n",
        "# your code here\n",
        "#pass\n",
        "\n",
        "import numpy as np\n",
        "\n",
        "# Matrices de ejemplo\n",
        "a = np.array([[1, 2],\n",
        "              [3, 4]])\n",
        "\n",
        "b = np.array([[5, 6],\n",
        "              [7, 8]])\n",
        "\n",
        "# Apilar las matrices a y b horizontalmente\n",
        "stacked_array = np.hstack((a, b))\n",
        "\n",
        "print(\"Matriz a:\")\n",
        "print(a)\n",
        "print(\"\\nMatriz b:\")\n",
        "print(b)\n",
        "print(\"\\nMatriz apilada horizontalmente:\")\n",
        "print(stacked_array)\n"
      ],
      "metadata": {
        "colab": {
          "base_uri": "https://localhost:8080/"
        },
        "id": "pLZ4fGiB4sfm",
        "outputId": "ae1f1621-dcce-4305-b422-71db840f5afc"
      },
      "execution_count": null,
      "outputs": [
        {
          "output_type": "stream",
          "name": "stdout",
          "text": [
            "Matriz a:\n",
            "[[1 2]\n",
            " [3 4]]\n",
            "\n",
            "Matriz b:\n",
            "[[5 6]\n",
            " [7 8]]\n",
            "\n",
            "Matriz apilada horizontalmente:\n",
            "[[1 2 5 6]\n",
            " [3 4 7 8]]\n"
          ]
        }
      ]
    },
    {
      "cell_type": "code",
      "source": [
        "# Get all items between 5 and 10 from array tmp.\n",
        "# your code here\n",
        "#import numpy as np\n",
        "#tmp = np.arange(15)\n",
        "# pass\n",
        "\n",
        "import numpy as np\n",
        "\n",
        "tmp = np.arange(15)\n",
        "\n",
        "# Consigue artículos entre 5 y 10\n",
        "result = tmp[(tmp > 5) & (tmp < 10)]\n",
        "\n",
        "print(\"Matriz original tmp:\")\n",
        "print(tmp)\n",
        "print(\"\\nArtículos entre 5 y 10:\")\n",
        "print(result)"
      ],
      "metadata": {
        "colab": {
          "base_uri": "https://localhost:8080/"
        },
        "id": "1lOl7N-E5KMu",
        "outputId": "e027cc46-a32a-4deb-f6a6-8c5be5c70e61"
      },
      "execution_count": null,
      "outputs": [
        {
          "output_type": "stream",
          "name": "stdout",
          "text": [
            "Matriz original tmp:\n",
            "[ 0  1  2  3  4  5  6  7  8  9 10 11 12 13 14]\n",
            "\n",
            "Artículos entre 5 y 10:\n",
            "[6 7 8 9]\n"
          ]
        }
      ]
    },
    {
      "cell_type": "code",
      "source": [
        "# How to make a python function that handles scalars to work on numpy arrays?\n",
        "# Hint\n",
        "# Desired Output:\n",
        "# a = np.array([5, 7, 9, 8, 6, 4, 5])\n",
        "# b = np.array([6, 3, 4, 8, 9, 7, 1])\n",
        "# pair_max(a, b)\n",
        "# #> array([ 6.,  7.,  9.,  8.,  9.,  7.,  5.])\n",
        "\n",
        "\n",
        "# your code here\n",
        "#import numpy as np\n",
        "\n",
        "#def maxx(x, y):\n",
        " #   \"\"\"Get the maximum of two items\"\"\"\n",
        "  #  if x >= y:\n",
        "   #     return x\n",
        "    #else:\n",
        "     #   return y\n",
        "\n",
        "#maxx(1, 5)\n",
        "\n",
        "import numpy as np\n",
        "\n",
        "def pair_max(x, y):\n",
        "    \"\"\"Obtenga el máximo de elementos de dos matrices\"\"\"\n",
        "    return np.maximum(x, y)\n",
        "\n",
        "# Ejemplo:\n",
        "a = np.array([5, 7, 9, 8, 6, 4, 5])\n",
        "b = np.array([6, 3, 4, 8, 9, 7, 1])\n",
        "\n",
        "result = pair_max(a, b)\n",
        "print(result)"
      ],
      "metadata": {
        "colab": {
          "base_uri": "https://localhost:8080/"
        },
        "id": "bFLKboze55r_",
        "outputId": "3b201297-21f4-45f3-dcb8-f0b9bc330892"
      },
      "execution_count": null,
      "outputs": [
        {
          "output_type": "stream",
          "name": "stdout",
          "text": [
            "[6 7 9 8 9 7 5]\n"
          ]
        }
      ]
    },
    {
      "cell_type": "code",
      "source": [
        "# Swap columns 1 and 2 in the array arr.\n",
        "# Hint\n",
        "# Desired Output:\n",
        "# [[0 2 1]\n",
        "#  [3 5 4]\n",
        "#  [6 8 7]]\n",
        "\n",
        "\n",
        "#arr = np.arange(9).reshape(3,3)\n",
        "#print(arr)\n",
        "# your code here\n",
        "#pass\n",
        "\n",
        "import numpy as np\n",
        "\n",
        "arr = np.arange(9).reshape(3, 3)\n",
        "print(\"Original matriz:\")\n",
        "print(arr)\n",
        "\n",
        "# Intercambiar columnas 1 y 2\n",
        "arr[:, [1, 2]] = arr[:, [2, 1]]\n",
        "\n",
        "print(\"\\nMatriz después de intercambiar las columnas 1 y 2:\")\n",
        "print(arr)\n"
      ],
      "metadata": {
        "colab": {
          "base_uri": "https://localhost:8080/"
        },
        "id": "zJfjau4p6VEt",
        "outputId": "3340141b-ac5d-41eb-a31e-85668fc91237"
      },
      "execution_count": null,
      "outputs": [
        {
          "output_type": "stream",
          "name": "stdout",
          "text": [
            "Original matriz:\n",
            "[[0 1 2]\n",
            " [3 4 5]\n",
            " [6 7 8]]\n",
            "\n",
            "Matriz después de intercambiar las columnas 1 y 2:\n",
            "[[0 2 1]\n",
            " [3 5 4]\n",
            " [6 8 7]]\n"
          ]
        }
      ]
    },
    {
      "cell_type": "code",
      "source": [
        "# Create a 2D array of shape 5x3 to contain random decimal numbers between 5 and 10.\n",
        "# Hint\n",
        "# The desired Output should be like the following one:\n",
        "#  [[ 8.50061025  9.10531502  6.85867783]\n",
        "#   [ 9.76262069  9.87717411  7.13466701]\n",
        "#   [ 7.48966403  8.33409158  6.16808631]\n",
        "#   [ 7.75010551  9.94535696  5.27373226]\n",
        "#   [ 8.0850361   5.56165518  7.31244004]]\n",
        "\n",
        "import numpy as np\n",
        "\n",
        "# Genere una matriz de 5x3 de números decimales aleatorios entre 5 y 10\n",
        "arr = np.random.uniform(5, 10, size=(5, 3))\n",
        "\n",
        "print(\"Matriz aleatoria de 5x3 entre 5 y 10:\")\n",
        "print(arr)\n"
      ],
      "metadata": {
        "colab": {
          "base_uri": "https://localhost:8080/"
        },
        "id": "Mi-u2jA36woy",
        "outputId": "e8456789-823f-4334-a0c4-b705994f0e0b"
      },
      "execution_count": null,
      "outputs": [
        {
          "output_type": "stream",
          "name": "stdout",
          "text": [
            "Matriz aleatoria de 5x3 entre 5 y 10:\n",
            "[[5.8527658  7.00298239 9.90961547]\n",
            " [9.8063239  5.35850944 9.60534975]\n",
            " [9.39075859 6.88198431 5.16793111]\n",
            " [8.63358045 9.29895661 6.30429001]\n",
            " [7.96550619 7.67657021 9.7100466 ]]\n"
          ]
        }
      ]
    }
  ]
}
{
  "nbformat": 4,
  "nbformat_minor": 0,
  "metadata": {
    "colab": {
      "provenance": [],
      "authorship_tag": "ABX9TyPoufSkKxqK94UtClBieoS0",
      "include_colab_link": true
    },
    "kernelspec": {
      "name": "python3",
      "display_name": "Python 3"
    },
    "language_info": {
      "name": "python"
    }
  },
  "cells": [
    {
      "cell_type": "markdown",
      "metadata": {
        "id": "view-in-github",
        "colab_type": "text"
      },
      "source": [
        "<a href=\"https://colab.research.google.com/github/RichardZambrano05/InteligenciaArtificial/blob/main/Practica3.ipynb\" target=\"_parent\"><img src=\"https://colab.research.google.com/assets/colab-badge.svg\" alt=\"Open In Colab\"/></a>"
      ]
    },
    {
      "cell_type": "code",
      "execution_count": null,
      "metadata": {
        "colab": {
          "base_uri": "https://localhost:8080/"
        },
        "id": "PZU8wNUGNDX-",
        "outputId": "5b34ffc6-0114-4d36-9658-93af2d344c04"
      },
      "outputs": [
        {
          "output_type": "stream",
          "name": "stdout",
          "text": [
            "[[9 8 4 9]\n",
            " [7 8 6 7]\n",
            " [6 5 9 7]]\n",
            "[[5 4 5 7]\n",
            " [4 8 9 9]\n",
            " [4 2 1 3]]\n"
          ]
        }
      ],
      "source": [
        "import numpy as np\n",
        "a=np.random.randint(1,10,(3,4))\n",
        "print(a)\n",
        "b=np.random.randint(1,10,(3,4))\n",
        "print(b)"
      ]
    },
    {
      "cell_type": "code",
      "source": [
        "a=np.random.randn(10)\n",
        "print(a)\n",
        "b=np.random.randn(10)\n",
        "print(b)"
      ],
      "metadata": {
        "colab": {
          "base_uri": "https://localhost:8080/"
        },
        "id": "rNFiI82aPMBW",
        "outputId": "d8464af4-36e1-4832-e343-269479d4b14e"
      },
      "execution_count": null,
      "outputs": [
        {
          "output_type": "stream",
          "name": "stdout",
          "text": [
            "[ 0.74121045  0.19293398  1.61533102  0.70110309 -0.79059481  1.13363359\n",
            " -0.81096494  2.15954945 -1.02034203  0.56328026]\n",
            "[ 0.57752511  0.7612428   0.656573    2.3181241   0.79968337 -0.92671442\n",
            " -1.3433176   1.59513982 -0.11345404 -1.50884255]\n"
          ]
        }
      ]
    },
    {
      "cell_type": "code",
      "source": [
        "import numpy as np\n",
        "tmp=np.arange(15)\n",
        "print(tmp)\n",
        "tmp1=tmp[5:10]\n",
        "print(tmp1)"
      ],
      "metadata": {
        "colab": {
          "base_uri": "https://localhost:8080/"
        },
        "id": "iYypGtjBPiPw",
        "outputId": "d2f1434e-d981-4590-d0d8-06197c8880e0"
      },
      "execution_count": null,
      "outputs": [
        {
          "output_type": "stream",
          "name": "stdout",
          "text": [
            "[ 0  1  2  3  4  5  6  7  8  9 10 11 12 13 14]\n",
            "[5 6 7 8 9]\n"
          ]
        }
      ]
    },
    {
      "cell_type": "code",
      "source": [
        "import numpy as np\n",
        "a=np.array([5,7,9,8,6,4,5])\n",
        "b=np.array([6,3,4,8,9,7,1])\n",
        "def max_array(a,b):\n",
        "  r=np.maximum(a,b)\n",
        "  return r\n",
        "resul=max_array(a,b)\n",
        "print(resul)\n",
        "\n"
      ],
      "metadata": {
        "colab": {
          "base_uri": "https://localhost:8080/"
        },
        "id": "bvg7Xfu_RWx9",
        "outputId": "c2870fc5-6080-49c6-ef9f-836ba2732253"
      },
      "execution_count": null,
      "outputs": [
        {
          "output_type": "stream",
          "name": "stdout",
          "text": [
            "[6 7 9 8 9 7 5]\n"
          ]
        }
      ]
    },
    {
      "cell_type": "code",
      "source": [
        "arr=np.arange(9).reshape(3,3)\n",
        "print(\"Original Matriz:\")\n",
        "print(arr)\n",
        "arr[:,[1,2]]=arr[:,[2,1]]\n",
        "print(\"\\nIntercambiadas Matriz:\")\n",
        "print(arr)"
      ],
      "metadata": {
        "colab": {
          "base_uri": "https://localhost:8080/"
        },
        "id": "IHn2V450U_M9",
        "outputId": "61e02d75-f4b1-40c7-c11a-7603e2059b75"
      },
      "execution_count": null,
      "outputs": [
        {
          "output_type": "stream",
          "name": "stdout",
          "text": [
            "Original Matriz:\n",
            "[[0 1 2]\n",
            " [3 4 5]\n",
            " [6 7 8]]\n",
            "\n",
            "Intercambiadas Matriz:\n",
            "[[0 2 1]\n",
            " [3 5 4]\n",
            " [6 8 7]]\n"
          ]
        }
      ]
    },
    {
      "cell_type": "code",
      "source": [
        "import numpy as np\n",
        "random_array=5+10*np.random.random((5,3))\n",
        "print(random_array)"
      ],
      "metadata": {
        "colab": {
          "base_uri": "https://localhost:8080/"
        },
        "id": "Rg11kCCGXou9",
        "outputId": "3f526875-9a4b-4e68-d6e8-e4f763456b0a"
      },
      "execution_count": null,
      "outputs": [
        {
          "output_type": "stream",
          "name": "stdout",
          "text": [
            "[[ 5.854831    8.75722772  7.15869742]\n",
            " [11.45961307 13.75925234 11.6402783 ]\n",
            " [ 6.46686471 13.32680845 14.2295923 ]\n",
            " [14.65024615  7.77381147 10.55028955]\n",
            " [11.96891357  7.89646677  8.37906238]]\n"
          ]
        }
      ]
    }
  ]
}
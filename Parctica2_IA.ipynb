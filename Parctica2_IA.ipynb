{
  "nbformat": 4,
  "nbformat_minor": 0,
  "metadata": {
    "colab": {
      "provenance": [],
      "toc_visible": true,
      "authorship_tag": "ABX9TyP7rdiVrIRACkIpllRVfoKy",
      "include_colab_link": true
    },
    "kernelspec": {
      "name": "python3",
      "display_name": "Python 3"
    },
    "language_info": {
      "name": "python"
    }
  },
  "cells": [
    {
      "cell_type": "markdown",
      "metadata": {
        "id": "view-in-github",
        "colab_type": "text"
      },
      "source": [
        "<a href=\"https://colab.research.google.com/github/RichardZambrano05/InteligenciaArtificial/blob/main/Parctica2_IA.ipynb\" target=\"_parent\"><img src=\"https://colab.research.google.com/assets/colab-badge.svg\" alt=\"Open In Colab\"/></a>"
      ]
    },
    {
      "cell_type": "code",
      "execution_count": null,
      "metadata": {
        "colab": {
          "base_uri": "https://localhost:8080/"
        },
        "id": "FGZfMKeMosh8",
        "outputId": "d1aa0776-825d-4c3a-8911-3536d8720d0a"
      },
      "outputs": [
        {
          "output_type": "stream",
          "name": "stdout",
          "text": [
            "[[2 4 2 9]\n",
            " [2 9 2 3]\n",
            " [7 3 8 3]]\n",
            "4.5\n",
            "4.5\n",
            "[4.25 4.   5.25]\n",
            "[3.66666667 5.33333333 4.         5.        ]\n",
            "54\n",
            "[3.  2.5 5. ]\n"
          ]
        }
      ],
      "source": [
        "import numpy as np\n",
        "a=np.random.randint(1,10,(3,4))\n",
        "print(a)\n",
        "tmp=np.mean(a)\n",
        "print(tmp)\n",
        "print(a.mean())\n",
        "tmp=a.mean(axis=1)\n",
        "print(tmp)\n",
        "tmp=a.mean(axis=0)\n",
        "print(tmp)\n",
        "tmp=a.sum()\n",
        "print(tmp)\n",
        "mediana=np.median(a,axis=1)\n",
        "print(mediana)"
      ]
    },
    {
      "cell_type": "code",
      "source": [
        "#sorting\n",
        "b=np.random.randn(10)\n",
        "print(b)\n",
        "print(b.shape)\n",
        "b.sort()\n",
        "print(b)"
      ],
      "metadata": {
        "colab": {
          "base_uri": "https://localhost:8080/"
        },
        "id": "eFtsytZ3rJbu",
        "outputId": "afe773fb-91c2-4449-d279-852f0f01493b"
      },
      "execution_count": null,
      "outputs": [
        {
          "output_type": "stream",
          "name": "stdout",
          "text": [
            "[-0.51096499  0.54951162  0.1848824   1.19938015  0.65290552  0.23855874\n",
            "  0.38980995 -1.71505012  0.33838686 -0.34737621]\n",
            "(10,)\n",
            "[-1.71505012 -0.51096499 -0.34737621  0.1848824   0.23855874  0.33838686\n",
            "  0.38980995  0.54951162  0.65290552  1.19938015]\n"
          ]
        }
      ]
    },
    {
      "cell_type": "code",
      "source": [
        "c=np.array([2,3,4,2,5,3,5])\n",
        "print(np.unique(c))"
      ],
      "metadata": {
        "colab": {
          "base_uri": "https://localhost:8080/"
        },
        "id": "bpXMYDu7ruqx",
        "outputId": "5d8f450e-973a-4b4b-f7d0-a9f47b56a8da"
      },
      "execution_count": null,
      "outputs": [
        {
          "output_type": "stream",
          "name": "stdout",
          "text": [
            "[2 3 4 5]\n"
          ]
        }
      ]
    },
    {
      "cell_type": "code",
      "source": [
        "string1=np.array(['desk', 'chair', 'bulb'])\n",
        "string2=np.array(['lamp', 'bulb', 'chair'])\n",
        "\n",
        "tmp1=np.intersect1d(string1,string2)\n",
        "print(tmp1)\n",
        "tmp2=np.union1d(string1,string2)\n",
        "print(tmp2)\n",
        "tmp3=np.setdiff1d(string1,string2)\n",
        "print(tmp3)\n",
        "\n",
        "tmp4=np.in1d(string1,string2)\n",
        "print(tmp4)\n"
      ],
      "metadata": {
        "colab": {
          "base_uri": "https://localhost:8080/"
        },
        "id": "UZQyUrrgsLTu",
        "outputId": "10df4fbb-d24c-4682-bada-ab822185c291"
      },
      "execution_count": null,
      "outputs": [
        {
          "output_type": "stream",
          "name": "stdout",
          "text": [
            "['bulb' 'chair']\n",
            "['bulb' 'chair' 'desk' 'lamp']\n",
            "['desk']\n",
            "[False  True  True]\n"
          ]
        }
      ]
    },
    {
      "cell_type": "code",
      "source": [
        "#BROADCASTING\n",
        "aux=np.zeros((4,3))\n",
        "print(aux)\n",
        "replica=np.array([1,2,1])\n",
        "aux=aux+replica\n",
        "print(aux)\n",
        "replicacol=np.array([10,10,10])\n",
        "print(replicacol.shape)\n",
        "replicacol=np.reshape(replicacol,(3,1))\n",
        "print(replicacol.shape)\n",
        "aux=np.zeros((3,3))\n",
        "aux1=aux+replicacol\n",
        "print(aux1)\n",
        "\n",
        "vector=np.array([45])\n",
        "matrixZeros=np.zeros((5,5))\n",
        "print(matrixZeros)\n",
        "print(matrixZeros+vector)"
      ],
      "metadata": {
        "colab": {
          "base_uri": "https://localhost:8080/"
        },
        "id": "67eM7HNpuOCe",
        "outputId": "e72c5605-ad48-464c-87f6-2ff36164ce50"
      },
      "execution_count": null,
      "outputs": [
        {
          "output_type": "stream",
          "name": "stdout",
          "text": [
            "[[0. 0. 0.]\n",
            " [0. 0. 0.]\n",
            " [0. 0. 0.]\n",
            " [0. 0. 0.]]\n",
            "[[1. 2. 1.]\n",
            " [1. 2. 1.]\n",
            " [1. 2. 1.]\n",
            " [1. 2. 1.]]\n",
            "(3,)\n",
            "(3, 1)\n",
            "[[10. 10. 10.]\n",
            " [10. 10. 10.]\n",
            " [10. 10. 10.]]\n",
            "[[0. 0. 0. 0. 0.]\n",
            " [0. 0. 0. 0. 0.]\n",
            " [0. 0. 0. 0. 0.]\n",
            " [0. 0. 0. 0. 0.]\n",
            " [0. 0. 0. 0. 0.]]\n",
            "[[45. 45. 45. 45. 45.]\n",
            " [45. 45. 45. 45. 45.]\n",
            " [45. 45. 45. 45. 45.]\n",
            " [45. 45. 45. 45. 45.]\n",
            " [45. 45. 45. 45. 45.]]\n"
          ]
        }
      ]
    }
  ]
}